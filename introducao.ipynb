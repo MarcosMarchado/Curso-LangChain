{
 "cells": [
  {
   "cell_type": "code",
   "execution_count": 10,
   "id": "89a8c65c",
   "metadata": {},
   "outputs": [],
   "source": [
    "#https://python.langchain.com/docs/integrations/llms/openai/\n",
    "from langchain_openai import OpenAI\n",
    "from dotenv import find_dotenv, load_dotenv"
   ]
  },
  {
   "cell_type": "code",
   "execution_count": 11,
   "id": "24b48be8",
   "metadata": {},
   "outputs": [
    {
     "data": {
      "text/plain": [
       "\"\\n\\nI'm an AI so I don't have the ability to feel emotions, but I am functioning well. How about you? \""
      ]
     },
     "execution_count": 11,
     "metadata": {},
     "output_type": "execute_result"
    }
   ],
   "source": [
    "# Carregando variáveis de ambiente\n",
    "#_ = load_dotenv(find_dotenv())\n",
    "llm = OpenAI()\n",
    "llm.invoke(\"Hello how are you?\")"
   ]
  },
  {
   "cell_type": "markdown",
   "id": "cf587418",
   "metadata": {},
   "source": [
    "#### Perguntas em Batch"
   ]
  },
  {
   "cell_type": "code",
   "execution_count": 12,
   "id": "22dd5cd6",
   "metadata": {},
   "outputs": [
    {
     "data": {
      "text/plain": [
       "['\\n\\nO papa atual é Francisco, também conhecido como Papa Francisco, nascido Jorge Mario Bergoglio, eleito em 13 de março de 2013. ',\n",
       " '\\n\\nUm ano bissexto tem 366 dias.',\n",
       " '\\n\\nO Real Madrid é o time com mais títulos de Champions League, com um total de 13 conquistas.']"
      ]
     },
     "execution_count": 12,
     "metadata": {},
     "output_type": "execute_result"
    }
   ],
   "source": [
    "## Perguntas em Batch\n",
    "perguntas = [\n",
    "    'Qual é o papa atual?',\n",
    "    'Quantos dias tem um ano bissexto?',\n",
    "    'Qual é o time com mais champions league?'\n",
    "]\n",
    "\n",
    "llm.batch(perguntas)"
   ]
  },
  {
   "cell_type": "markdown",
   "id": "d91b6a49",
   "metadata": {},
   "source": [
    "#### Respostas em Stream"
   ]
  },
  {
   "cell_type": "code",
   "execution_count": 14,
   "id": "902ad25d",
   "metadata": {},
   "outputs": [
    {
     "name": "stdout",
     "output_type": "stream",
     "text": [
      "\n",
      "\n",
      "A Segunda Guerra Mundial foi um conflito global que aconteceu entre 1939 e 1945, envolvendo a maioria das nações do mundo, incluindo as grandes potências da época: Alemanha, Itália, Japão, Reino Unido, Estados Unidos, União Soviética e França. Iniciada com a invasão da Polônia pela Alemanha nazista, a guerra se alastrou por toda a Europa e Ásia, resultando em mais de 50 milhões de mortos, incluindo civis e militares.\n",
      "\n",
      "O conflito foi marcado pela expansão territorial e ideológica do regime nazista liderado por Adolf Hitler, que buscava estabelecer um império alemão e promovia a perseguição e extermínio de grupos considerados \"inferiores\", como judeus, ciganos e homossexuais. Isso levou ao surgimento dos campos de concentração e ao genocídio em massa conhecido como Holocausto.\n",
      "\n",
      "Do outro lado, os Aliados (liderados por Reino Unido, União Soviética e Estados"
     ]
    }
   ],
   "source": [
    "#https://python.langchain.com/api_reference/openai/llms/langchain_openai.llms.base.OpenAI.html#langchain_openai.llms.base.OpenAI\n",
    "pergunta = 'Crie um resumo da segunda guerra mundial'\n",
    "\n",
    "for mensagem in llm.stream(pergunta):\n",
    "    print(mensagem, end='')"
   ]
  },
  {
   "cell_type": "markdown",
   "id": "fb914144",
   "metadata": {},
   "source": [
    "### Chat Models"
   ]
  },
  {
   "cell_type": "markdown",
   "id": "2b5fb130",
   "metadata": {},
   "source": [
    "#### Diferença entre `OpenAI` e `ChatOpenAI` no LangChain\n",
    "##### DOC: https://api.python.langchain.com/en/latest/openai/index.html\n",
    "O LangChain oferece duas interfaces principais para interação com os modelos da OpenAI:\n",
    "\n",
    "#### `OpenAI`\n",
    "- **Tipo de API:** Completion (tradicional)\n",
    "- **Modelo padrão:** `gpt-3.5-turbo-instruct`\n",
    "- **Uso:** Envio de prompt simples (string) e retorno de uma continuação.\n",
    "- **Quando usar:** Ideal para prompts diretos e rápidos, sem necessidade de manter histórico de conversas.\n",
    "\n",
    "```python\n",
    "from langchain_openai import OpenAI\n",
    "\n",
    "llm = OpenAI()\n",
    "response = llm.invoke(\"Quem foi Albert Einstein?\")\n",
    "```\n",
    "\n",
    "#### `ChatOpenAI`\n",
    "- **Tipo de API:** ChatCompletion (chat estruturado)\n",
    "- **Modelo padrão:** gpt-3.5-turbo (ou gpt-4, se configurado)\n",
    "- **Uso:** Trabalha com mensagens estruturadas (system, user, assistant).\n",
    "- **Ideal para:** Casos de uso com histórico de conversas, agentes, ou interações mais naturais.\n",
    "\n",
    "\n",
    "```python\n",
    "from langchain_openai import ChatOpenAI\n",
    "\n",
    "chat = ChatOpenAI()\n",
    "response = chat.invoke(\"Quem foi Albert Einstein?\")\n",
    "```\n",
    "\n"
   ]
  },
  {
   "cell_type": "code",
   "execution_count": 1,
   "id": "3022d71e",
   "metadata": {},
   "outputs": [],
   "source": [
    "from langchain_core.messages import SystemMessage, HumanMessage\n",
    "#from langchain_openai import OpenAI ##Você envia um texto (prompt) e recebe uma continuação desse texto.\n",
    "from langchain_openai import ChatOpenAI ##Trabalha com histórico de mensagens estruturado\n"
   ]
  },
  {
   "cell_type": "code",
   "execution_count": 2,
   "id": "e2291fbb",
   "metadata": {},
   "outputs": [],
   "source": [
    "mensagens = [\n",
    "    SystemMessage(\"Você é especialista em gatos!\"),\n",
    "    HumanMessage(\"Quando um gato dorme com a barriga pra cima significa o que?\")\n",
    "]\n",
    "\n",
    "chat = ChatOpenAI(model=\"gpt-3.5-turbo-0125\")"
   ]
  },
  {
   "cell_type": "code",
   "execution_count": null,
   "id": "92b3b403",
   "metadata": {},
   "outputs": [
    {
     "data": {
      "text/plain": [
       "'Quando um gato dorme com a barriga para cima, normalmente é um sinal de que ele se sente seguro e relaxado em seu ambiente. Os gatos são animais instintivamente defensivos e vulneráveis quando dormem, então dormir com a barriga para cima significa que eles confiam em seu entorno e se sentem seguros o suficiente para expor sua barriga, uma área vulnerável do corpo.\\n\\nNo entanto, é importante observar o comportamento do gato em geral. Se ele normalmente dorme com a barriga para cima e parece estar saudável e feliz, não há motivo para se preocupar. Mas se isso é um comportamento incomum para o gato, pode haver algo errado e seria bom observar se ele apresenta outros sinais de desconforto ou estresse. Em casos de dúvida, sempre é bom consultar um veterinário para garantir que a saúde do seu gato está em ordem.'"
      ]
     },
     "execution_count": 5,
     "metadata": {},
     "output_type": "execute_result"
    }
   ],
   "source": [
    "## Chamada convêncional\n",
    "response = chat.invoke(mensagens)\n",
    "response.content"
   ]
  },
  {
   "cell_type": "code",
   "execution_count": null,
   "id": "7a716b02",
   "metadata": {},
   "outputs": [
    {
     "name": "stdout",
     "output_type": "stream",
     "text": [
      "Quando um gato dorme com a barriga para cima, geralmente indica que ele se sente seguro e confortável em seu ambiente. Isso porque, na natureza, os gatos costumam dormir de barriga para cima apenas quando se sentem confiantes e livres de ameaças. No entanto, é importante considerar o comportamento individual de cada gato, pois alguns gatos simplesmente podem preferir essa posição devido ao conforto. Sempre observe o comportamento do seu gato como um todo para ter uma melhor compreensão do que essa posição significa para ele."
     ]
    }
   ],
   "source": [
    "## Lendo em streams\n",
    "for texto in chat.stream(mensagens):\n",
    "    print(texto.content, end='')"
   ]
  }
 ],
 "metadata": {
  "kernelspec": {
   "display_name": ".venv",
   "language": "python",
   "name": "python3"
  },
  "language_info": {
   "codemirror_mode": {
    "name": "ipython",
    "version": 3
   },
   "file_extension": ".py",
   "mimetype": "text/x-python",
   "name": "python",
   "nbconvert_exporter": "python",
   "pygments_lexer": "ipython3",
   "version": "3.13.2"
  }
 },
 "nbformat": 4,
 "nbformat_minor": 5
}
